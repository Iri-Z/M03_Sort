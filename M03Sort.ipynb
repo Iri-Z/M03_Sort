{
 "cells": [
  {
   "cell_type": "code",
   "execution_count": 5,
   "id": "ee570bdf",
   "metadata": {},
   "outputs": [],
   "source": [
    "class Solution:\n",
    "    def sort012(self,arr,n):\n",
    "        lo = 0\n",
    "        mid = 0\n",
    "        high = n -1\n",
    "        \n",
    "        while mid <= high:\n",
    "            #Ensures all zeros are to the left\n",
    "            if arr[mid] == 0:\n",
    "                arr[lo], arr[mid] = arr[mid], arr[lo]\n",
    "                lo = lo + 1\n",
    "                mid = mid + 1\n",
    "            #Move past a 1 to leave in middle\n",
    "            elif arr[mid] == 1:\n",
    "                mid = mid + 1\n",
    "            #Move a 2 to the right\n",
    "            elif arr[mid] == 2:\n",
    "                arr[mid], arr[high] = arr[high], arr[mid]\n",
    "                high = high - 1\n",
    "            else:\n",
    "                print(\"Issue, all values must be 0, 1, or 2\")\n",
    "        return arr\n"
   ]
  },
  {
   "cell_type": "code",
   "execution_count": 6,
   "id": "13490c11",
   "metadata": {},
   "outputs": [
    {
     "name": "stdout",
     "output_type": "stream",
     "text": [
      "[0, 0, 0, 1, 1, 1, 1, 2, 2, 2]\n"
     ]
    }
   ],
   "source": [
    "sol = Solution()\n",
    "test = [0,2,1,1,2,1,0, 2, 1, 0]\n",
    "print(sol.sort012(test, len(test)))\n"
   ]
  },
  {
   "cell_type": "code",
   "execution_count": null,
   "id": "23827a4d",
   "metadata": {},
   "outputs": [],
   "source": []
  }
 ],
 "metadata": {
  "kernelspec": {
   "display_name": "Python 3 (ipykernel)",
   "language": "python",
   "name": "python3"
  },
  "language_info": {
   "codemirror_mode": {
    "name": "ipython",
    "version": 3
   },
   "file_extension": ".py",
   "mimetype": "text/x-python",
   "name": "python",
   "nbconvert_exporter": "python",
   "pygments_lexer": "ipython3",
   "version": "3.9.13"
  }
 },
 "nbformat": 4,
 "nbformat_minor": 5
}
